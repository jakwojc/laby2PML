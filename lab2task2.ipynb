{
  "nbformat": 4,
  "nbformat_minor": 0,
  "metadata": {
    "colab": {
      "provenance": [],
      "authorship_tag": "ABX9TyNIBjG9oaoKWUHisa1N31AM",
      "include_colab_link": true
    },
    "kernelspec": {
      "name": "python3",
      "display_name": "Python 3"
    },
    "language_info": {
      "name": "python"
    }
  },
  "cells": [
    {
      "cell_type": "markdown",
      "metadata": {
        "id": "view-in-github",
        "colab_type": "text"
      },
      "source": [
        "<a href=\"https://colab.research.google.com/github/jakwojc/laby2PML/blob/for-variant/lab2task2.ipynb\" target=\"_parent\"><img src=\"https://colab.research.google.com/assets/colab-badge.svg\" alt=\"Open In Colab\"/></a>"
      ]
    },
    {
      "cell_type": "code",
      "execution_count": 2,
      "metadata": {
        "colab": {
          "base_uri": "https://localhost:8080/"
        },
        "id": "6cErpiMVJHH8",
        "outputId": "98bbd2e3-c20a-4873-eed2-81eae7916da9"
      },
      "outputs": [
        {
          "output_type": "stream",
          "name": "stdout",
          "text": [
            "0.06310756555923158\n",
            "0.031455004272742504\n",
            "0.9544923882105512\n",
            "0.36931408394142795\n",
            "0.5009159253702409\n",
            "0.5332637699862629\n",
            "0.027391081344243173\n",
            "0.9660140435021614\n",
            "0.4135230694374791\n",
            "0.9451593585049669\n",
            "0.989204930956667\n",
            "0.34853077392496445\n",
            "0.28972803163512284\n",
            "0.6168800980082166\n",
            "0.6733007214180214\n",
            "0.9320761273834968\n",
            "0.13570156732317207\n",
            "0.49586098461744366\n",
            "0.2677510012260286\n",
            "0.04812748986693993\n"
          ]
        }
      ],
      "source": [
        "import numpy as np\n",
        "\n",
        "values = np.random.rand(20)\n",
        "list = [values for values in values]\n",
        "for i in range(20):\n",
        "  print(list[i])"
      ]
    }
  ]
}