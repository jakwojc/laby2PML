{
  "nbformat": 4,
  "nbformat_minor": 0,
  "metadata": {
    "colab": {
      "provenance": [],
      "authorship_tag": "ABX9TyPLVcpm016y1m2PT//JCWKK",
      "include_colab_link": true
    },
    "kernelspec": {
      "name": "python3",
      "display_name": "Python 3"
    },
    "language_info": {
      "name": "python"
    }
  },
  "cells": [
    {
      "cell_type": "markdown",
      "metadata": {
        "id": "view-in-github",
        "colab_type": "text"
      },
      "source": [
        "<a href=\"https://colab.research.google.com/github/jakwojc/laby2PML/blob/while-variant/lab2task2.ipynb\" target=\"_parent\"><img src=\"https://colab.research.google.com/assets/colab-badge.svg\" alt=\"Open In Colab\"/></a>"
      ]
    },
    {
      "cell_type": "code",
      "execution_count": 3,
      "metadata": {
        "colab": {
          "base_uri": "https://localhost:8080/"
        },
        "id": "6cErpiMVJHH8",
        "outputId": "e48a2b8d-292c-4e30-e4a6-0d59e6d75461"
      },
      "outputs": [
        {
          "output_type": "stream",
          "name": "stdout",
          "text": [
            "0.4366428838236469\n",
            "0.79590436355055\n",
            "0.6630657635695529\n",
            "0.7747095178203597\n",
            "0.48731096153014974\n",
            "0.1482901321216501\n",
            "0.9089815439600913\n",
            "0.21342259707459088\n",
            "0.7973040225571548\n",
            "0.19297379940507364\n",
            "0.26233702326235186\n",
            "0.6886574227419741\n",
            "0.8344980212093343\n",
            "0.7494258692973149\n",
            "0.16516146275841337\n",
            "0.6279809637185106\n",
            "0.7827503025848042\n",
            "0.4079668758431566\n",
            "0.6323113802906296\n",
            "0.9909131770555961\n"
          ]
        }
      ],
      "source": [
        "import numpy as np\n",
        "\n",
        "values = np.random.rand(20)\n",
        "list = [values for values in values]\n",
        "i=20\n",
        "while i>0:\n",
        "  i = i - 1\n",
        "  print(list[i])"
      ]
    }
  ]
}